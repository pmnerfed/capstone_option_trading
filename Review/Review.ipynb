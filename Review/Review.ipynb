{
  "nbformat": 4,
  "nbformat_minor": 0,
  "metadata": {
    "colab": {
      "provenance": [],
      "authorship_tag": "ABX9TyOLlNNm+UAwpLHI62pFNT43",
      "include_colab_link": true
    },
    "kernelspec": {
      "name": "python3",
      "display_name": "Python 3"
    },
    "language_info": {
      "name": "python"
    }
  },
  "cells": [
    {
      "cell_type": "markdown",
      "metadata": {
        "id": "view-in-github",
        "colab_type": "text"
      },
      "source": [
        "<a href=\"https://colab.research.google.com/github/pmnerfed/capstone_option_trading/blob/main/Review/Review.ipynb\" target=\"_parent\"><img src=\"https://colab.research.google.com/assets/colab-badge.svg\" alt=\"Open In Colab\"/></a>"
      ]
    },
    {
      "cell_type": "markdown",
      "source": [
        "# Long/Short Term Trading Strategies"
      ],
      "metadata": {
        "id": "nW44OQJViXWN"
      }
    },
    {
      "cell_type": "code",
      "execution_count": 41,
      "metadata": {
        "id": "B_YXx4ExtyuW"
      },
      "outputs": [],
      "source": [
        "import pandas as pd\n",
        "from datetime import datetime\n",
        "import yfinance as yf\n",
        "import matplotlib.pyplot as plt\n",
        "import numpy as np\n",
        "from scipy.stats import norm\n",
        "import math\n",
        "from datetime import datetime\n"
      ]
    },
    {
      "cell_type": "code",
      "source": [],
      "metadata": {
        "id": "i5Ii0d-YKEsp"
      },
      "execution_count": null,
      "outputs": []
    },
    {
      "cell_type": "markdown",
      "source": [
        "## Gathering the data"
      ],
      "metadata": {
        "id": "6W36CYABikMS"
      }
    },
    {
      "cell_type": "code",
      "source": [
        "import yfinance as yf\n",
        "import pandas as pd\n",
        "import matplotlib.pyplot as plt\n",
        "\n",
        "# Load AAPL stock option data\n",
        "ticker = 'AAPL'\n",
        "expiry = '2023-03-17'\n",
        "\n",
        "strike = 140\n",
        "\n",
        "# Get option chain data\n",
        "option_chain = yf.Ticker(ticker).option_chain()\n",
        "\n",
        "# Print option chain data\n",
        "# print(option_chain)\n",
        "\n",
        "# Plot the option chain data\n",
        "calls = option_chain.calls\n",
        "\n"
      ],
      "metadata": {
        "id": "i-vQgQeKinN0"
      },
      "execution_count": 57,
      "outputs": []
    },
    {
      "cell_type": "code",
      "source": [
        "yf.Ticker('AAPL').basic_info['lastPrice']"
      ],
      "metadata": {
        "id": "NmTZmrskP4Vd",
        "outputId": "2e70e706-997f-4ab5-ba22-c06cf2b40ad1",
        "colab": {
          "base_uri": "https://localhost:8080/"
        }
      },
      "execution_count": 62,
      "outputs": [
        {
          "output_type": "execute_result",
          "data": {
            "text/plain": [
              "189.61000061035156"
            ]
          },
          "metadata": {},
          "execution_count": 62
        }
      ]
    },
    {
      "cell_type": "code",
      "source": [
        "calls"
      ],
      "metadata": {
        "id": "BvuxVOBZPqWn",
        "outputId": "cad9780d-633f-4461-c9f9-2bc304f10d88",
        "colab": {
          "base_uri": "https://localhost:8080/",
          "height": 617
        }
      },
      "execution_count": 58,
      "outputs": [
        {
          "output_type": "execute_result",
          "data": {
            "text/plain": [
              "         contractSymbol             lastTradeDate  strike  lastPrice     bid  \\\n",
              "0   AAPL240119C00050000 2024-01-19 14:41:00+00:00    50.0     139.25  139.65   \n",
              "1   AAPL240119C00055000 2024-01-18 16:42:45+00:00    55.0     133.35  134.65   \n",
              "2   AAPL240119C00060000 2024-01-18 15:59:18+00:00    60.0     128.00  129.70   \n",
              "3   AAPL240119C00065000 2024-01-17 19:26:11+00:00    65.0     117.50  124.50   \n",
              "4   AAPL240119C00070000 2024-01-18 16:40:32+00:00    70.0     118.38  119.50   \n",
              "..                  ...                       ...     ...        ...     ...   \n",
              "63  AAPL240119C00285000 2024-01-08 18:32:07+00:00   285.0       0.01    0.00   \n",
              "64  AAPL240119C00290000 2024-01-09 14:30:00+00:00   290.0       0.01    0.00   \n",
              "65  AAPL240119C00300000 2024-01-18 16:01:33+00:00   300.0       0.01    0.00   \n",
              "66  AAPL240119C00310000 2024-01-10 14:30:00+00:00   310.0       0.01    0.00   \n",
              "67  AAPL240119C00320000 2024-01-16 20:54:28+00:00   320.0       0.01    0.00   \n",
              "\n",
              "       ask    change  percentChange  volume  openInterest  impliedVolatility  \\\n",
              "0   139.85  0.779999       0.563298       4         16767          10.921878   \n",
              "1   134.80  0.000000       0.000000       2          3353           9.984379   \n",
              "2   129.90  0.000000       0.000000      40          1773           9.796879   \n",
              "3   124.90  0.000000       0.000000      48          1854           8.500005   \n",
              "4   119.85  0.000000       0.000000       3          2042           7.750000   \n",
              "..     ...       ...            ...     ...           ...                ...   \n",
              "63    0.01  0.000000       0.000000       3           890           2.437504   \n",
              "64    0.01  0.000000       0.000000      10          1557           2.500004   \n",
              "65    0.01  0.000000       0.000000      10         28306           2.687503   \n",
              "66    0.01  0.000000       0.000000       4          3314           2.875003   \n",
              "67    0.01  0.000000       0.000000      26         14393           3.000002   \n",
              "\n",
              "    inTheMoney contractSize currency  \n",
              "0         True      REGULAR      USD  \n",
              "1         True      REGULAR      USD  \n",
              "2         True      REGULAR      USD  \n",
              "3         True      REGULAR      USD  \n",
              "4         True      REGULAR      USD  \n",
              "..         ...          ...      ...  \n",
              "63       False      REGULAR      USD  \n",
              "64       False      REGULAR      USD  \n",
              "65       False      REGULAR      USD  \n",
              "66       False      REGULAR      USD  \n",
              "67       False      REGULAR      USD  \n",
              "\n",
              "[68 rows x 14 columns]"
            ],
            "text/html": [
              "\n",
              "  <div id=\"df-fa205c5d-e2f8-47bc-b494-5d87e1719106\" class=\"colab-df-container\">\n",
              "    <div>\n",
              "<style scoped>\n",
              "    .dataframe tbody tr th:only-of-type {\n",
              "        vertical-align: middle;\n",
              "    }\n",
              "\n",
              "    .dataframe tbody tr th {\n",
              "        vertical-align: top;\n",
              "    }\n",
              "\n",
              "    .dataframe thead th {\n",
              "        text-align: right;\n",
              "    }\n",
              "</style>\n",
              "<table border=\"1\" class=\"dataframe\">\n",
              "  <thead>\n",
              "    <tr style=\"text-align: right;\">\n",
              "      <th></th>\n",
              "      <th>contractSymbol</th>\n",
              "      <th>lastTradeDate</th>\n",
              "      <th>strike</th>\n",
              "      <th>lastPrice</th>\n",
              "      <th>bid</th>\n",
              "      <th>ask</th>\n",
              "      <th>change</th>\n",
              "      <th>percentChange</th>\n",
              "      <th>volume</th>\n",
              "      <th>openInterest</th>\n",
              "      <th>impliedVolatility</th>\n",
              "      <th>inTheMoney</th>\n",
              "      <th>contractSize</th>\n",
              "      <th>currency</th>\n",
              "    </tr>\n",
              "  </thead>\n",
              "  <tbody>\n",
              "    <tr>\n",
              "      <th>0</th>\n",
              "      <td>AAPL240119C00050000</td>\n",
              "      <td>2024-01-19 14:41:00+00:00</td>\n",
              "      <td>50.0</td>\n",
              "      <td>139.25</td>\n",
              "      <td>139.65</td>\n",
              "      <td>139.85</td>\n",
              "      <td>0.779999</td>\n",
              "      <td>0.563298</td>\n",
              "      <td>4</td>\n",
              "      <td>16767</td>\n",
              "      <td>10.921878</td>\n",
              "      <td>True</td>\n",
              "      <td>REGULAR</td>\n",
              "      <td>USD</td>\n",
              "    </tr>\n",
              "    <tr>\n",
              "      <th>1</th>\n",
              "      <td>AAPL240119C00055000</td>\n",
              "      <td>2024-01-18 16:42:45+00:00</td>\n",
              "      <td>55.0</td>\n",
              "      <td>133.35</td>\n",
              "      <td>134.65</td>\n",
              "      <td>134.80</td>\n",
              "      <td>0.000000</td>\n",
              "      <td>0.000000</td>\n",
              "      <td>2</td>\n",
              "      <td>3353</td>\n",
              "      <td>9.984379</td>\n",
              "      <td>True</td>\n",
              "      <td>REGULAR</td>\n",
              "      <td>USD</td>\n",
              "    </tr>\n",
              "    <tr>\n",
              "      <th>2</th>\n",
              "      <td>AAPL240119C00060000</td>\n",
              "      <td>2024-01-18 15:59:18+00:00</td>\n",
              "      <td>60.0</td>\n",
              "      <td>128.00</td>\n",
              "      <td>129.70</td>\n",
              "      <td>129.90</td>\n",
              "      <td>0.000000</td>\n",
              "      <td>0.000000</td>\n",
              "      <td>40</td>\n",
              "      <td>1773</td>\n",
              "      <td>9.796879</td>\n",
              "      <td>True</td>\n",
              "      <td>REGULAR</td>\n",
              "      <td>USD</td>\n",
              "    </tr>\n",
              "    <tr>\n",
              "      <th>3</th>\n",
              "      <td>AAPL240119C00065000</td>\n",
              "      <td>2024-01-17 19:26:11+00:00</td>\n",
              "      <td>65.0</td>\n",
              "      <td>117.50</td>\n",
              "      <td>124.50</td>\n",
              "      <td>124.90</td>\n",
              "      <td>0.000000</td>\n",
              "      <td>0.000000</td>\n",
              "      <td>48</td>\n",
              "      <td>1854</td>\n",
              "      <td>8.500005</td>\n",
              "      <td>True</td>\n",
              "      <td>REGULAR</td>\n",
              "      <td>USD</td>\n",
              "    </tr>\n",
              "    <tr>\n",
              "      <th>4</th>\n",
              "      <td>AAPL240119C00070000</td>\n",
              "      <td>2024-01-18 16:40:32+00:00</td>\n",
              "      <td>70.0</td>\n",
              "      <td>118.38</td>\n",
              "      <td>119.50</td>\n",
              "      <td>119.85</td>\n",
              "      <td>0.000000</td>\n",
              "      <td>0.000000</td>\n",
              "      <td>3</td>\n",
              "      <td>2042</td>\n",
              "      <td>7.750000</td>\n",
              "      <td>True</td>\n",
              "      <td>REGULAR</td>\n",
              "      <td>USD</td>\n",
              "    </tr>\n",
              "    <tr>\n",
              "      <th>...</th>\n",
              "      <td>...</td>\n",
              "      <td>...</td>\n",
              "      <td>...</td>\n",
              "      <td>...</td>\n",
              "      <td>...</td>\n",
              "      <td>...</td>\n",
              "      <td>...</td>\n",
              "      <td>...</td>\n",
              "      <td>...</td>\n",
              "      <td>...</td>\n",
              "      <td>...</td>\n",
              "      <td>...</td>\n",
              "      <td>...</td>\n",
              "      <td>...</td>\n",
              "    </tr>\n",
              "    <tr>\n",
              "      <th>63</th>\n",
              "      <td>AAPL240119C00285000</td>\n",
              "      <td>2024-01-08 18:32:07+00:00</td>\n",
              "      <td>285.0</td>\n",
              "      <td>0.01</td>\n",
              "      <td>0.00</td>\n",
              "      <td>0.01</td>\n",
              "      <td>0.000000</td>\n",
              "      <td>0.000000</td>\n",
              "      <td>3</td>\n",
              "      <td>890</td>\n",
              "      <td>2.437504</td>\n",
              "      <td>False</td>\n",
              "      <td>REGULAR</td>\n",
              "      <td>USD</td>\n",
              "    </tr>\n",
              "    <tr>\n",
              "      <th>64</th>\n",
              "      <td>AAPL240119C00290000</td>\n",
              "      <td>2024-01-09 14:30:00+00:00</td>\n",
              "      <td>290.0</td>\n",
              "      <td>0.01</td>\n",
              "      <td>0.00</td>\n",
              "      <td>0.01</td>\n",
              "      <td>0.000000</td>\n",
              "      <td>0.000000</td>\n",
              "      <td>10</td>\n",
              "      <td>1557</td>\n",
              "      <td>2.500004</td>\n",
              "      <td>False</td>\n",
              "      <td>REGULAR</td>\n",
              "      <td>USD</td>\n",
              "    </tr>\n",
              "    <tr>\n",
              "      <th>65</th>\n",
              "      <td>AAPL240119C00300000</td>\n",
              "      <td>2024-01-18 16:01:33+00:00</td>\n",
              "      <td>300.0</td>\n",
              "      <td>0.01</td>\n",
              "      <td>0.00</td>\n",
              "      <td>0.01</td>\n",
              "      <td>0.000000</td>\n",
              "      <td>0.000000</td>\n",
              "      <td>10</td>\n",
              "      <td>28306</td>\n",
              "      <td>2.687503</td>\n",
              "      <td>False</td>\n",
              "      <td>REGULAR</td>\n",
              "      <td>USD</td>\n",
              "    </tr>\n",
              "    <tr>\n",
              "      <th>66</th>\n",
              "      <td>AAPL240119C00310000</td>\n",
              "      <td>2024-01-10 14:30:00+00:00</td>\n",
              "      <td>310.0</td>\n",
              "      <td>0.01</td>\n",
              "      <td>0.00</td>\n",
              "      <td>0.01</td>\n",
              "      <td>0.000000</td>\n",
              "      <td>0.000000</td>\n",
              "      <td>4</td>\n",
              "      <td>3314</td>\n",
              "      <td>2.875003</td>\n",
              "      <td>False</td>\n",
              "      <td>REGULAR</td>\n",
              "      <td>USD</td>\n",
              "    </tr>\n",
              "    <tr>\n",
              "      <th>67</th>\n",
              "      <td>AAPL240119C00320000</td>\n",
              "      <td>2024-01-16 20:54:28+00:00</td>\n",
              "      <td>320.0</td>\n",
              "      <td>0.01</td>\n",
              "      <td>0.00</td>\n",
              "      <td>0.01</td>\n",
              "      <td>0.000000</td>\n",
              "      <td>0.000000</td>\n",
              "      <td>26</td>\n",
              "      <td>14393</td>\n",
              "      <td>3.000002</td>\n",
              "      <td>False</td>\n",
              "      <td>REGULAR</td>\n",
              "      <td>USD</td>\n",
              "    </tr>\n",
              "  </tbody>\n",
              "</table>\n",
              "<p>68 rows × 14 columns</p>\n",
              "</div>\n",
              "    <div class=\"colab-df-buttons\">\n",
              "\n",
              "  <div class=\"colab-df-container\">\n",
              "    <button class=\"colab-df-convert\" onclick=\"convertToInteractive('df-fa205c5d-e2f8-47bc-b494-5d87e1719106')\"\n",
              "            title=\"Convert this dataframe to an interactive table.\"\n",
              "            style=\"display:none;\">\n",
              "\n",
              "  <svg xmlns=\"http://www.w3.org/2000/svg\" height=\"24px\" viewBox=\"0 -960 960 960\">\n",
              "    <path d=\"M120-120v-720h720v720H120Zm60-500h600v-160H180v160Zm220 220h160v-160H400v160Zm0 220h160v-160H400v160ZM180-400h160v-160H180v160Zm440 0h160v-160H620v160ZM180-180h160v-160H180v160Zm440 0h160v-160H620v160Z\"/>\n",
              "  </svg>\n",
              "    </button>\n",
              "\n",
              "  <style>\n",
              "    .colab-df-container {\n",
              "      display:flex;\n",
              "      gap: 12px;\n",
              "    }\n",
              "\n",
              "    .colab-df-convert {\n",
              "      background-color: #E8F0FE;\n",
              "      border: none;\n",
              "      border-radius: 50%;\n",
              "      cursor: pointer;\n",
              "      display: none;\n",
              "      fill: #1967D2;\n",
              "      height: 32px;\n",
              "      padding: 0 0 0 0;\n",
              "      width: 32px;\n",
              "    }\n",
              "\n",
              "    .colab-df-convert:hover {\n",
              "      background-color: #E2EBFA;\n",
              "      box-shadow: 0px 1px 2px rgba(60, 64, 67, 0.3), 0px 1px 3px 1px rgba(60, 64, 67, 0.15);\n",
              "      fill: #174EA6;\n",
              "    }\n",
              "\n",
              "    .colab-df-buttons div {\n",
              "      margin-bottom: 4px;\n",
              "    }\n",
              "\n",
              "    [theme=dark] .colab-df-convert {\n",
              "      background-color: #3B4455;\n",
              "      fill: #D2E3FC;\n",
              "    }\n",
              "\n",
              "    [theme=dark] .colab-df-convert:hover {\n",
              "      background-color: #434B5C;\n",
              "      box-shadow: 0px 1px 3px 1px rgba(0, 0, 0, 0.15);\n",
              "      filter: drop-shadow(0px 1px 2px rgba(0, 0, 0, 0.3));\n",
              "      fill: #FFFFFF;\n",
              "    }\n",
              "  </style>\n",
              "\n",
              "    <script>\n",
              "      const buttonEl =\n",
              "        document.querySelector('#df-fa205c5d-e2f8-47bc-b494-5d87e1719106 button.colab-df-convert');\n",
              "      buttonEl.style.display =\n",
              "        google.colab.kernel.accessAllowed ? 'block' : 'none';\n",
              "\n",
              "      async function convertToInteractive(key) {\n",
              "        const element = document.querySelector('#df-fa205c5d-e2f8-47bc-b494-5d87e1719106');\n",
              "        const dataTable =\n",
              "          await google.colab.kernel.invokeFunction('convertToInteractive',\n",
              "                                                    [key], {});\n",
              "        if (!dataTable) return;\n",
              "\n",
              "        const docLinkHtml = 'Like what you see? Visit the ' +\n",
              "          '<a target=\"_blank\" href=https://colab.research.google.com/notebooks/data_table.ipynb>data table notebook</a>'\n",
              "          + ' to learn more about interactive tables.';\n",
              "        element.innerHTML = '';\n",
              "        dataTable['output_type'] = 'display_data';\n",
              "        await google.colab.output.renderOutput(dataTable, element);\n",
              "        const docLink = document.createElement('div');\n",
              "        docLink.innerHTML = docLinkHtml;\n",
              "        element.appendChild(docLink);\n",
              "      }\n",
              "    </script>\n",
              "  </div>\n",
              "\n",
              "\n",
              "<div id=\"df-6a542570-419f-4ee2-8e24-0603b25ab6fc\">\n",
              "  <button class=\"colab-df-quickchart\" onclick=\"quickchart('df-6a542570-419f-4ee2-8e24-0603b25ab6fc')\"\n",
              "            title=\"Suggest charts\"\n",
              "            style=\"display:none;\">\n",
              "\n",
              "<svg xmlns=\"http://www.w3.org/2000/svg\" height=\"24px\"viewBox=\"0 0 24 24\"\n",
              "     width=\"24px\">\n",
              "    <g>\n",
              "        <path d=\"M19 3H5c-1.1 0-2 .9-2 2v14c0 1.1.9 2 2 2h14c1.1 0 2-.9 2-2V5c0-1.1-.9-2-2-2zM9 17H7v-7h2v7zm4 0h-2V7h2v10zm4 0h-2v-4h2v4z\"/>\n",
              "    </g>\n",
              "</svg>\n",
              "  </button>\n",
              "\n",
              "<style>\n",
              "  .colab-df-quickchart {\n",
              "      --bg-color: #E8F0FE;\n",
              "      --fill-color: #1967D2;\n",
              "      --hover-bg-color: #E2EBFA;\n",
              "      --hover-fill-color: #174EA6;\n",
              "      --disabled-fill-color: #AAA;\n",
              "      --disabled-bg-color: #DDD;\n",
              "  }\n",
              "\n",
              "  [theme=dark] .colab-df-quickchart {\n",
              "      --bg-color: #3B4455;\n",
              "      --fill-color: #D2E3FC;\n",
              "      --hover-bg-color: #434B5C;\n",
              "      --hover-fill-color: #FFFFFF;\n",
              "      --disabled-bg-color: #3B4455;\n",
              "      --disabled-fill-color: #666;\n",
              "  }\n",
              "\n",
              "  .colab-df-quickchart {\n",
              "    background-color: var(--bg-color);\n",
              "    border: none;\n",
              "    border-radius: 50%;\n",
              "    cursor: pointer;\n",
              "    display: none;\n",
              "    fill: var(--fill-color);\n",
              "    height: 32px;\n",
              "    padding: 0;\n",
              "    width: 32px;\n",
              "  }\n",
              "\n",
              "  .colab-df-quickchart:hover {\n",
              "    background-color: var(--hover-bg-color);\n",
              "    box-shadow: 0 1px 2px rgba(60, 64, 67, 0.3), 0 1px 3px 1px rgba(60, 64, 67, 0.15);\n",
              "    fill: var(--button-hover-fill-color);\n",
              "  }\n",
              "\n",
              "  .colab-df-quickchart-complete:disabled,\n",
              "  .colab-df-quickchart-complete:disabled:hover {\n",
              "    background-color: var(--disabled-bg-color);\n",
              "    fill: var(--disabled-fill-color);\n",
              "    box-shadow: none;\n",
              "  }\n",
              "\n",
              "  .colab-df-spinner {\n",
              "    border: 2px solid var(--fill-color);\n",
              "    border-color: transparent;\n",
              "    border-bottom-color: var(--fill-color);\n",
              "    animation:\n",
              "      spin 1s steps(1) infinite;\n",
              "  }\n",
              "\n",
              "  @keyframes spin {\n",
              "    0% {\n",
              "      border-color: transparent;\n",
              "      border-bottom-color: var(--fill-color);\n",
              "      border-left-color: var(--fill-color);\n",
              "    }\n",
              "    20% {\n",
              "      border-color: transparent;\n",
              "      border-left-color: var(--fill-color);\n",
              "      border-top-color: var(--fill-color);\n",
              "    }\n",
              "    30% {\n",
              "      border-color: transparent;\n",
              "      border-left-color: var(--fill-color);\n",
              "      border-top-color: var(--fill-color);\n",
              "      border-right-color: var(--fill-color);\n",
              "    }\n",
              "    40% {\n",
              "      border-color: transparent;\n",
              "      border-right-color: var(--fill-color);\n",
              "      border-top-color: var(--fill-color);\n",
              "    }\n",
              "    60% {\n",
              "      border-color: transparent;\n",
              "      border-right-color: var(--fill-color);\n",
              "    }\n",
              "    80% {\n",
              "      border-color: transparent;\n",
              "      border-right-color: var(--fill-color);\n",
              "      border-bottom-color: var(--fill-color);\n",
              "    }\n",
              "    90% {\n",
              "      border-color: transparent;\n",
              "      border-bottom-color: var(--fill-color);\n",
              "    }\n",
              "  }\n",
              "</style>\n",
              "\n",
              "  <script>\n",
              "    async function quickchart(key) {\n",
              "      const quickchartButtonEl =\n",
              "        document.querySelector('#' + key + ' button');\n",
              "      quickchartButtonEl.disabled = true;  // To prevent multiple clicks.\n",
              "      quickchartButtonEl.classList.add('colab-df-spinner');\n",
              "      try {\n",
              "        const charts = await google.colab.kernel.invokeFunction(\n",
              "            'suggestCharts', [key], {});\n",
              "      } catch (error) {\n",
              "        console.error('Error during call to suggestCharts:', error);\n",
              "      }\n",
              "      quickchartButtonEl.classList.remove('colab-df-spinner');\n",
              "      quickchartButtonEl.classList.add('colab-df-quickchart-complete');\n",
              "    }\n",
              "    (() => {\n",
              "      let quickchartButtonEl =\n",
              "        document.querySelector('#df-6a542570-419f-4ee2-8e24-0603b25ab6fc button');\n",
              "      quickchartButtonEl.style.display =\n",
              "        google.colab.kernel.accessAllowed ? 'block' : 'none';\n",
              "    })();\n",
              "  </script>\n",
              "</div>\n",
              "\n",
              "  <div id=\"id_f0e1afe9-f263-4dbc-b2f4-e7d18154890e\">\n",
              "    <style>\n",
              "      .colab-df-generate {\n",
              "        background-color: #E8F0FE;\n",
              "        border: none;\n",
              "        border-radius: 50%;\n",
              "        cursor: pointer;\n",
              "        display: none;\n",
              "        fill: #1967D2;\n",
              "        height: 32px;\n",
              "        padding: 0 0 0 0;\n",
              "        width: 32px;\n",
              "      }\n",
              "\n",
              "      .colab-df-generate:hover {\n",
              "        background-color: #E2EBFA;\n",
              "        box-shadow: 0px 1px 2px rgba(60, 64, 67, 0.3), 0px 1px 3px 1px rgba(60, 64, 67, 0.15);\n",
              "        fill: #174EA6;\n",
              "      }\n",
              "\n",
              "      [theme=dark] .colab-df-generate {\n",
              "        background-color: #3B4455;\n",
              "        fill: #D2E3FC;\n",
              "      }\n",
              "\n",
              "      [theme=dark] .colab-df-generate:hover {\n",
              "        background-color: #434B5C;\n",
              "        box-shadow: 0px 1px 3px 1px rgba(0, 0, 0, 0.15);\n",
              "        filter: drop-shadow(0px 1px 2px rgba(0, 0, 0, 0.3));\n",
              "        fill: #FFFFFF;\n",
              "      }\n",
              "    </style>\n",
              "    <button class=\"colab-df-generate\" onclick=\"generateWithVariable('calls')\"\n",
              "            title=\"Generate code using this dataframe.\"\n",
              "            style=\"display:none;\">\n",
              "\n",
              "  <svg xmlns=\"http://www.w3.org/2000/svg\" height=\"24px\"viewBox=\"0 0 24 24\"\n",
              "       width=\"24px\">\n",
              "    <path d=\"M7,19H8.4L18.45,9,17,7.55,7,17.6ZM5,21V16.75L18.45,3.32a2,2,0,0,1,2.83,0l1.4,1.43a1.91,1.91,0,0,1,.58,1.4,1.91,1.91,0,0,1-.58,1.4L9.25,21ZM18.45,9,17,7.55Zm-12,3A5.31,5.31,0,0,0,4.9,8.1,5.31,5.31,0,0,0,1,6.5,5.31,5.31,0,0,0,4.9,4.9,5.31,5.31,0,0,0,6.5,1,5.31,5.31,0,0,0,8.1,4.9,5.31,5.31,0,0,0,12,6.5,5.46,5.46,0,0,0,6.5,12Z\"/>\n",
              "  </svg>\n",
              "    </button>\n",
              "    <script>\n",
              "      (() => {\n",
              "      const buttonEl =\n",
              "        document.querySelector('#id_f0e1afe9-f263-4dbc-b2f4-e7d18154890e button.colab-df-generate');\n",
              "      buttonEl.style.display =\n",
              "        google.colab.kernel.accessAllowed ? 'block' : 'none';\n",
              "\n",
              "      buttonEl.onclick = () => {\n",
              "        google.colab.notebook.generateWithVariable('calls');\n",
              "      }\n",
              "      })();\n",
              "    </script>\n",
              "  </div>\n",
              "\n",
              "    </div>\n",
              "  </div>\n"
            ]
          },
          "metadata": {},
          "execution_count": 58
        }
      ]
    },
    {
      "cell_type": "code",
      "source": [
        "strike_calls = calls[calls[\"strike\"] == strike]\n",
        "# strike_calls.bid\n",
        "\n",
        "print(strike_calls.bid)\n",
        "strike_calls.plot(y= 'bid')\n",
        "plt.show()\n"
      ],
      "metadata": {
        "id": "7teTMT-WHxZG"
      },
      "execution_count": null,
      "outputs": []
    },
    {
      "cell_type": "code",
      "source": [
        "# prompt: import and analyse AAPL stock option data\n",
        "\n",
        "import pandas as pd\n",
        "import numpy as np\n",
        "from datetime import datetime\n",
        "\n",
        "# Import AAPL stock option data\n",
        "df = pd.read_csv('AAPL_stock_options.csv')\n",
        "\n",
        "# Convert the expiration date column to a datetime object\n",
        "df['expiration_date'] = pd.to_datetime(df['expiration_date'])\n",
        "\n",
        "# Calculate the strike price\n",
        "df['strike_price'] = df['strike_price'].astype(int)\n",
        "\n",
        "# Calculate the option type (call or put)\n",
        "df['option_type'] = df['option_type'].str.lower()\n",
        "\n",
        "# Calculate the option premium\n",
        "df['option_premium'] = df['option_premium'].astype(float)\n",
        "\n",
        "# Calculate the bid price\n",
        "df['bid_price'] = df['bid_price'].astype(float)\n",
        "\n",
        "# Calculate the ask price\n",
        "df['ask_price'] = df['ask_price'].astype(float)\n",
        "\n",
        "# Calculate the last traded price\n",
        "df['last_traded_price'] = df['last_traded_price'].astype(float)\n",
        "\n",
        "# Calculate the volume\n",
        "df['volume'] = df['volume'].astype(int)\n",
        "\n",
        "# Calculate the open interest\n",
        "df['open_interest'] = df['open_interest'].astype(int)\n",
        "\n",
        "# Calculate the implied volatility\n",
        "df['implied_volatility'] = df['implied_volatility'].astype(float)\n",
        "\n",
        "# Calculate the time to expiration\n",
        "df['time_to_expiration'] = df['expiration_date'] - datetime.now()\n",
        "\n",
        "# Calculate the intrinsic value\n",
        "df['intrinsic_value'] = np.where(df['option_type'] == 'call', df['last_traded_price'] - df['strike_price'], df['strike_price'] - df['last_traded_price'])\n",
        "\n",
        "# Calculate the extrinsic value\n",
        "df['extrinsic_value'] = df['option_premium'] - df['intrinsic_value']\n",
        "\n",
        "# Calculate the delta\n",
        "df['delta'] = np.where(df['option_type'] == 'call', np.where(df['last_traded_price'] > df['strike_price'], 1, 0), np.where(df['last_traded_price'] < df['strike_price'], -1, 0))\n",
        "\n",
        "# Calculate the gamma\n",
        "df['gamma'] = np.where(df['option_type'] == 'call', np.where(df['last_traded_price'] > df['strike_price'], 0.5, -0.5), np.where(df['last_traded_price'] < df['strike_price'], -0.5, 0.5))\n",
        "\n",
        "# Calculate the vega\n",
        "df['vega'] = np.where(df['option_type'] == 'call', 0.01 * df['last_traded_price'] * np.sqrt(df['time_to_expiration'].dt.days / 365), -0.01 * df['last_traded_price'] * np.sqrt(df['time_to_expiration'].dt.days / 365))\n",
        "\n",
        "# Calculate the theta\n",
        "df['theta'] = np.where(df['option_type'] == 'call', -0.01 * df['last_traded_price'] * df['implied_volatility'] * np.sqrt(df['time_to_expiration'].dt.days / 365), 0.01 * df['last_traded_price'] * df['implied_volatility'] * np.sqrt(df['time_to_expiration'].dt.days / 365))\n",
        "\n",
        "# Calculate the rho\n",
        "df['rho'] = np.where(df['option_type'] == 'call', 0.01 * df['strike_price'] * df['time_to_expiration'].dt.days / 365, -0.01 * df['strike_price'] * df['time_to_expiration'].dt.days / 365)\n",
        "\n",
        "# Print the head of the dataframe\n",
        "print(df.head())"
      ],
      "metadata": {
        "id": "JiJBK1Trinx2"
      },
      "execution_count": null,
      "outputs": []
    },
    {
      "cell_type": "markdown",
      "source": [
        "## Exploratory Analysis"
      ],
      "metadata": {
        "id": "06UHFNBbiohg"
      }
    },
    {
      "cell_type": "code",
      "source": [],
      "metadata": {
        "id": "AMP7gdb2irIi"
      },
      "execution_count": null,
      "outputs": []
    },
    {
      "cell_type": "markdown",
      "source": [
        "### Cleanup"
      ],
      "metadata": {
        "id": "pnBduiGvirmO"
      }
    },
    {
      "cell_type": "code",
      "source": [],
      "metadata": {
        "id": "nQk8P2HziuSZ"
      },
      "execution_count": null,
      "outputs": []
    },
    {
      "cell_type": "markdown",
      "source": [
        "## Analysis of existing non-deep learning strategies"
      ],
      "metadata": {
        "id": "c-Vuq2K8iu5L"
      }
    },
    {
      "cell_type": "code",
      "source": [],
      "metadata": {
        "id": "QHnWP8JPi2VF"
      },
      "execution_count": null,
      "outputs": []
    },
    {
      "cell_type": "markdown",
      "source": [
        "### Defining Strategy models"
      ],
      "metadata": {
        "id": "o83rRAKEi3HI"
      }
    },
    {
      "cell_type": "code",
      "source": [
        "import os\n",
        "from pathlib import Path\n",
        "\n",
        "Path(\"strategies\").mkdir(parents=True, exist_ok=True)"
      ],
      "metadata": {
        "id": "7nHU9umDK6C9"
      },
      "execution_count": 18,
      "outputs": []
    },
    {
      "cell_type": "markdown",
      "source": [
        "#### Simple Moving Average"
      ],
      "metadata": {
        "id": "PbzF7zrzJg__"
      }
    },
    {
      "cell_type": "code",
      "source": [
        "!pip install backtesting"
      ],
      "metadata": {
        "colab": {
          "base_uri": "https://localhost:8080/"
        },
        "id": "JbO1wwlzI-Ga",
        "outputId": "2d3c8ecd-5e97-4cf7-c6a4-aad7661a7017"
      },
      "execution_count": 29,
      "outputs": [
        {
          "output_type": "stream",
          "name": "stdout",
          "text": [
            "Collecting backtesting\n",
            "  Downloading Backtesting-0.3.3.tar.gz (175 kB)\n",
            "\u001b[2K     \u001b[90m━━━━━━━━━━━━━━━━━━━━━━━━━━━━━━━━━━━━━━━━\u001b[0m \u001b[32m175.5/175.5 kB\u001b[0m \u001b[31m3.3 MB/s\u001b[0m eta \u001b[36m0:00:00\u001b[0m\n",
            "\u001b[?25h  Preparing metadata (setup.py) ... \u001b[?25l\u001b[?25hdone\n",
            "Requirement already satisfied: numpy>=1.17.0 in /usr/local/lib/python3.10/dist-packages (from backtesting) (1.23.5)\n",
            "Requirement already satisfied: pandas!=0.25.0,>=0.25.0 in /usr/local/lib/python3.10/dist-packages (from backtesting) (1.5.3)\n",
            "Requirement already satisfied: bokeh>=1.4.0 in /usr/local/lib/python3.10/dist-packages (from backtesting) (3.3.3)\n",
            "Requirement already satisfied: Jinja2>=2.9 in /usr/local/lib/python3.10/dist-packages (from bokeh>=1.4.0->backtesting) (3.1.3)\n",
            "Requirement already satisfied: contourpy>=1 in /usr/local/lib/python3.10/dist-packages (from bokeh>=1.4.0->backtesting) (1.2.0)\n",
            "Requirement already satisfied: packaging>=16.8 in /usr/local/lib/python3.10/dist-packages (from bokeh>=1.4.0->backtesting) (23.2)\n",
            "Requirement already satisfied: pillow>=7.1.0 in /usr/local/lib/python3.10/dist-packages (from bokeh>=1.4.0->backtesting) (9.4.0)\n",
            "Requirement already satisfied: PyYAML>=3.10 in /usr/local/lib/python3.10/dist-packages (from bokeh>=1.4.0->backtesting) (6.0.1)\n",
            "Requirement already satisfied: tornado>=5.1 in /usr/local/lib/python3.10/dist-packages (from bokeh>=1.4.0->backtesting) (6.3.2)\n",
            "Requirement already satisfied: xyzservices>=2021.09.1 in /usr/local/lib/python3.10/dist-packages (from bokeh>=1.4.0->backtesting) (2023.10.1)\n",
            "Requirement already satisfied: python-dateutil>=2.8.1 in /usr/local/lib/python3.10/dist-packages (from pandas!=0.25.0,>=0.25.0->backtesting) (2.8.2)\n",
            "Requirement already satisfied: pytz>=2020.1 in /usr/local/lib/python3.10/dist-packages (from pandas!=0.25.0,>=0.25.0->backtesting) (2023.3.post1)\n",
            "Requirement already satisfied: MarkupSafe>=2.0 in /usr/local/lib/python3.10/dist-packages (from Jinja2>=2.9->bokeh>=1.4.0->backtesting) (2.1.3)\n",
            "Requirement already satisfied: six>=1.5 in /usr/local/lib/python3.10/dist-packages (from python-dateutil>=2.8.1->pandas!=0.25.0,>=0.25.0->backtesting) (1.16.0)\n",
            "Building wheels for collected packages: backtesting\n",
            "  Building wheel for backtesting (setup.py) ... \u001b[?25l\u001b[?25hdone\n",
            "  Created wheel for backtesting: filename=Backtesting-0.3.3-py3-none-any.whl size=173916 sha256=5674f8f7611581a26425320a19c7a7682332c22a9a96add3312eceea0f9d8f3b\n",
            "  Stored in directory: /root/.cache/pip/wheels/e2/30/7f/19cbe31987c6ebdb47f1f510343249066711609e3da2d57176\n",
            "Successfully built backtesting\n",
            "Installing collected packages: backtesting\n",
            "Successfully installed backtesting-0.3.3\n"
          ]
        }
      ]
    },
    {
      "cell_type": "code",
      "source": [
        "from backtesting import Backtest, Strategy\n",
        "from backtesting.lib import crossover\n",
        "\n",
        "from backtesting.test import GOOG\n",
        "\n"
      ],
      "metadata": {
        "id": "yqCwJUkQJqaD"
      },
      "execution_count": 33,
      "outputs": []
    },
    {
      "cell_type": "code",
      "source": [
        "%%writefile strategies/sma.py\n",
        "from backtesting import Backtest, Strategy\n",
        "from backtesting.lib import crossover\n",
        "\n",
        "from backtesting.test import SMA\n",
        "\n",
        "class SmaCross(Strategy):\n",
        "    n1 = 10\n",
        "    n2 = 20\n",
        "\n",
        "    def init(self):\n",
        "        close = self.data.Close\n",
        "        self.sma1 = self.I(SMA, close, self.n1)\n",
        "        self.sma2 = self.I(SMA, close, self.n2)\n",
        "\n",
        "    def next(self):\n",
        "        if crossover(self.sma1, self.sma2):\n",
        "            self.buy()\n",
        "        elif crossover(self.sma2, self.sma1):\n",
        "            self.sell()"
      ],
      "metadata": {
        "id": "QzGBUvmMi7Dm",
        "colab": {
          "base_uri": "https://localhost:8080/"
        },
        "outputId": "bad2a22f-87ea-444a-a5b7-0160a0d413ff"
      },
      "execution_count": 38,
      "outputs": [
        {
          "output_type": "stream",
          "name": "stdout",
          "text": [
            "Overwriting strategies/sma.py\n"
          ]
        }
      ]
    },
    {
      "cell_type": "markdown",
      "source": [
        "### Defining scoring and backtesting methodology"
      ],
      "metadata": {
        "id": "tCn6PviMi7yg"
      }
    },
    {
      "cell_type": "code",
      "source": [
        "from strategies.sma import SmaCross\n",
        "\n",
        "bt = Backtest(GOOG, SmaCross,\n",
        "              cash=10000, commission=.002,\n",
        "              exclusive_orders=True)\n",
        "\n",
        "output = bt.run()\n",
        "bt.plot()\n"
      ],
      "metadata": {
        "id": "5kJOhpCTjAeP",
        "colab": {
          "base_uri": "https://localhost:8080/",
          "height": 384
        },
        "outputId": "1c8b6a19-f7f6-4d5f-b281-1111c731b111"
      },
      "execution_count": 40,
      "outputs": [
        {
          "output_type": "error",
          "ename": "ImportError",
          "evalue": "cannot import name 'SmaCross' from 'strategies.sma' (/content/strategies/sma.py)",
          "traceback": [
            "\u001b[0;31m---------------------------------------------------------------------------\u001b[0m",
            "\u001b[0;31mImportError\u001b[0m                               Traceback (most recent call last)",
            "\u001b[0;32m<ipython-input-40-6048fa394cd8>\u001b[0m in \u001b[0;36m<cell line: 1>\u001b[0;34m()\u001b[0m\n\u001b[0;32m----> 1\u001b[0;31m \u001b[0;32mfrom\u001b[0m \u001b[0mstrategies\u001b[0m\u001b[0;34m.\u001b[0m\u001b[0msma\u001b[0m \u001b[0;32mimport\u001b[0m \u001b[0mSmaCross\u001b[0m\u001b[0;34m\u001b[0m\u001b[0;34m\u001b[0m\u001b[0m\n\u001b[0m\u001b[1;32m      2\u001b[0m \u001b[0;34m\u001b[0m\u001b[0m\n\u001b[1;32m      3\u001b[0m bt = Backtest(GOOG, SmaCross,\n\u001b[1;32m      4\u001b[0m               \u001b[0mcash\u001b[0m\u001b[0;34m=\u001b[0m\u001b[0;36m10000\u001b[0m\u001b[0;34m,\u001b[0m \u001b[0mcommission\u001b[0m\u001b[0;34m=\u001b[0m\u001b[0;36m.002\u001b[0m\u001b[0;34m,\u001b[0m\u001b[0;34m\u001b[0m\u001b[0;34m\u001b[0m\u001b[0m\n\u001b[1;32m      5\u001b[0m               exclusive_orders=True)\n",
            "\u001b[0;31mImportError\u001b[0m: cannot import name 'SmaCross' from 'strategies.sma' (/content/strategies/sma.py)",
            "",
            "\u001b[0;31m---------------------------------------------------------------------------\u001b[0;32m\nNOTE: If your import is failing due to a missing package, you can\nmanually install dependencies using either !pip or !apt.\n\nTo view examples of installing some common dependencies, click the\n\"Open Examples\" button below.\n\u001b[0;31m---------------------------------------------------------------------------\u001b[0m\n"
          ],
          "errorDetails": {
            "actions": [
              {
                "action": "open_url",
                "actionText": "Open Examples",
                "url": "/notebooks/snippets/importing_libraries.ipynb"
              }
            ]
          }
        }
      ]
    },
    {
      "cell_type": "markdown",
      "source": [
        "### Comparing existing strategies"
      ],
      "metadata": {
        "id": "Kgswf6rwjA7s"
      }
    },
    {
      "cell_type": "code",
      "source": [],
      "metadata": {
        "id": "hgGi5g3EjD_K"
      },
      "execution_count": null,
      "outputs": []
    },
    {
      "cell_type": "markdown",
      "source": [
        "## Analysisng existing Deep learning Strategies"
      ],
      "metadata": {
        "id": "3dNYJepRjHo_"
      }
    },
    {
      "cell_type": "code",
      "source": [],
      "metadata": {
        "id": "B6zUFSA5jLpd"
      },
      "execution_count": null,
      "outputs": []
    },
    {
      "cell_type": "markdown",
      "source": [
        "### Defining strategy models"
      ],
      "metadata": {
        "id": "Ivn0IYvpjNoc"
      }
    },
    {
      "cell_type": "code",
      "source": [],
      "metadata": {
        "id": "AxptwcAVjQk5"
      },
      "execution_count": null,
      "outputs": []
    },
    {
      "cell_type": "markdown",
      "source": [
        "### Comparing with existing models"
      ],
      "metadata": {
        "id": "2rSUyqbljRBK"
      }
    },
    {
      "cell_type": "code",
      "source": [],
      "metadata": {
        "id": "0msySBh8jVHr"
      },
      "execution_count": null,
      "outputs": []
    },
    {
      "cell_type": "markdown",
      "source": [
        "### Analysis of strategies and their pros and cons"
      ],
      "metadata": {
        "id": "Vs1INSWgkOt4"
      }
    },
    {
      "cell_type": "markdown",
      "source": [
        "## Proposing our strategy"
      ],
      "metadata": {
        "id": "MsTjQSrDjWC4"
      }
    },
    {
      "cell_type": "markdown",
      "source": [
        "> Explain the strategy in words"
      ],
      "metadata": {
        "id": "Ms3Y0hHMkuB_"
      }
    },
    {
      "cell_type": "code",
      "source": [],
      "metadata": {
        "id": "DlZqTXrckdFv"
      },
      "execution_count": null,
      "outputs": []
    },
    {
      "cell_type": "markdown",
      "source": [
        "### Defining the strategy"
      ],
      "metadata": {
        "id": "bMh0DKOJkv7E"
      }
    },
    {
      "cell_type": "code",
      "source": [],
      "metadata": {
        "id": "1CEgasplk-cC"
      },
      "execution_count": null,
      "outputs": []
    },
    {
      "cell_type": "markdown",
      "source": [
        "### Comparing strategies with various methods"
      ],
      "metadata": {
        "id": "99eaapPyk_k-"
      }
    },
    {
      "cell_type": "code",
      "source": [],
      "metadata": {
        "id": "NR9IZfNMlC0C"
      },
      "execution_count": null,
      "outputs": []
    },
    {
      "cell_type": "markdown",
      "source": [
        "## Conclusion"
      ],
      "metadata": {
        "id": "2oPSCnTTlVIq"
      }
    },
    {
      "cell_type": "code",
      "source": [],
      "metadata": {
        "id": "YG9qhiiClWiO"
      },
      "execution_count": null,
      "outputs": []
    }
  ]
}