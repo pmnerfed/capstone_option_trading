{
  "nbformat": 4,
  "nbformat_minor": 0,
  "metadata": {
    "colab": {
      "provenance": [],
      "authorship_tag": "ABX9TyOA0U3PDpiP9Dy9xyxFYPDL",
      "include_colab_link": true
    },
    "kernelspec": {
      "name": "python3",
      "display_name": "Python 3"
    },
    "language_info": {
      "name": "python"
    }
  },
  "cells": [
    {
      "cell_type": "markdown",
      "metadata": {
        "id": "view-in-github",
        "colab_type": "text"
      },
      "source": [
        "<a href=\"https://colab.research.google.com/github/pmnerfed/capstone_option_trading/blob/main/Review/Review.ipynb\" target=\"_parent\"><img src=\"https://colab.research.google.com/assets/colab-badge.svg\" alt=\"Open In Colab\"/></a>"
      ]
    },
    {
      "cell_type": "markdown",
      "source": [
        "# Long/Short Term Trading Strategies"
      ],
      "metadata": {
        "id": "nW44OQJViXWN"
      }
    },
    {
      "cell_type": "code",
      "execution_count": 11,
      "metadata": {
        "id": "B_YXx4ExtyuW"
      },
      "outputs": [],
      "source": [
        "# prompt: import and analyse AAPL stock option data\n",
        "\n",
        "import pandas as pd\n",
        "from datetime import datetime\n",
        "import yfinance as yf\n",
        "import matplotlib.pyplot as plt\n",
        "import numpy as np\n",
        "from scipy.stats import norm\n",
        "import math\n",
        "from datetime import datetime\n"
      ]
    },
    {
      "cell_type": "code",
      "source": [],
      "metadata": {
        "id": "i5Ii0d-YKEsp"
      },
      "execution_count": null,
      "outputs": []
    },
    {
      "cell_type": "markdown",
      "source": [
        "## Gathering the data"
      ],
      "metadata": {
        "id": "6W36CYABikMS"
      }
    },
    {
      "cell_type": "code",
      "source": [
        "# prompt: import and analyse AAPL stock option data\n",
        "\n",
        "import yfinance as yf\n",
        "import pandas as pd\n",
        "import matplotlib.pyplot as plt\n",
        "\n",
        "# Load AAPL stock option data\n",
        "ticker = 'AAPL'\n",
        "expiry = '2023-03-17'\n",
        "strike = 140\n",
        "\n",
        "# Get option chain data\n",
        "option_chain = yf.Ticker(ticker).option_chain()\n",
        "\n",
        "# Print option chain data\n",
        "print(option_chain)\n",
        "\n",
        "# Plot the option chain data\n",
        "option_chain.plot_option_chains()\n",
        "plt.show()\n"
      ],
      "metadata": {
        "id": "i-vQgQeKinN0",
        "outputId": "d8a16210-3800-4024-83e8-b1bbfd9bd1e1",
        "colab": {
          "base_uri": "https://localhost:8080/",
          "height": 1000
        }
      },
      "execution_count": 2,
      "outputs": [
        {
          "output_type": "stream",
          "name": "stdout",
          "text": [
            "Options(calls=         contractSymbol             lastTradeDate  strike  lastPrice  bid  \\\n",
            "0   AAPL240119C00050000 2024-01-18 16:58:29+00:00    50.0     138.47  0.0   \n",
            "1   AAPL240119C00055000 2024-01-18 16:42:45+00:00    55.0     133.35  0.0   \n",
            "2   AAPL240119C00060000 2024-01-18 15:59:18+00:00    60.0     128.00  0.0   \n",
            "3   AAPL240119C00065000 2024-01-17 19:26:11+00:00    65.0     117.50  0.0   \n",
            "4   AAPL240119C00070000 2024-01-18 16:40:32+00:00    70.0     118.38  0.0   \n",
            "..                  ...                       ...     ...        ...  ...   \n",
            "63  AAPL240119C00285000 2024-01-08 18:32:07+00:00   285.0       0.01  0.0   \n",
            "64  AAPL240119C00290000 2024-01-09 14:30:00+00:00   290.0       0.01  0.0   \n",
            "65  AAPL240119C00300000 2024-01-18 16:01:33+00:00   300.0       0.01  0.0   \n",
            "66  AAPL240119C00310000 2024-01-10 14:30:00+00:00   310.0       0.01  0.0   \n",
            "67  AAPL240119C00320000 2024-01-16 20:54:28+00:00   320.0       0.01  0.0   \n",
            "\n",
            "    ask  change  percentChange  volume  openInterest  impliedVolatility  \\\n",
            "0   0.0     0.0            0.0      68         16767           0.000010   \n",
            "1   0.0     0.0            0.0       2          3353           0.000010   \n",
            "2   0.0     0.0            0.0      40          1773           0.000010   \n",
            "3   0.0     0.0            0.0      48          1854           0.000010   \n",
            "4   0.0     0.0            0.0       3          2042           0.000010   \n",
            "..  ...     ...            ...     ...           ...                ...   \n",
            "63  0.0     0.0            0.0       3           890           0.500005   \n",
            "64  0.0     0.0            0.0      10          1557           1.000005   \n",
            "65  0.0     0.0            0.0      10         28306           0.500005   \n",
            "66  0.0     0.0            0.0       4          3314           0.500005   \n",
            "67  0.0     0.0            0.0      26         14393           0.500005   \n",
            "\n",
            "    inTheMoney contractSize currency  \n",
            "0         True      REGULAR      USD  \n",
            "1         True      REGULAR      USD  \n",
            "2         True      REGULAR      USD  \n",
            "3         True      REGULAR      USD  \n",
            "4         True      REGULAR      USD  \n",
            "..         ...          ...      ...  \n",
            "63       False      REGULAR      USD  \n",
            "64       False      REGULAR      USD  \n",
            "65       False      REGULAR      USD  \n",
            "66       False      REGULAR      USD  \n",
            "67       False      REGULAR      USD  \n",
            "\n",
            "[68 rows x 14 columns], puts=         contractSymbol             lastTradeDate  strike  lastPrice   bid  \\\n",
            "0   AAPL240119P00050000 2024-01-04 19:54:36+00:00    50.0       0.01   0.0   \n",
            "1   AAPL240119P00055000 2024-01-11 17:05:00+00:00    55.0       0.01   0.0   \n",
            "2   AAPL240119P00060000 2024-01-02 19:11:50+00:00    60.0       0.01   0.0   \n",
            "3   AAPL240119P00065000 2023-12-28 18:42:15+00:00    65.0       0.01   0.0   \n",
            "4   AAPL240119P00070000 2024-01-03 18:16:58+00:00    70.0       0.01   0.0   \n",
            "..                  ...                       ...     ...        ...   ...   \n",
            "59  AAPL240119P00285000 2023-07-31 18:14:59+00:00   285.0      89.06  95.8   \n",
            "60  AAPL240119P00290000 2023-12-27 20:58:53+00:00   290.0      96.97   0.0   \n",
            "61  AAPL240119P00300000 2024-01-09 14:39:27+00:00   300.0     116.60   0.0   \n",
            "62  AAPL240119P00310000 2024-01-16 15:38:15+00:00   310.0     127.30   0.0   \n",
            "63  AAPL240119P00320000 2024-01-16 18:17:40+00:00   320.0     137.15   0.0   \n",
            "\n",
            "     ask  change  percentChange  volume  openInterest  impliedVolatility  \\\n",
            "0    0.0     0.0            0.0       2         41466           0.500005   \n",
            "1    0.0     0.0            0.0       2          7917           0.500005   \n",
            "2    0.0     0.0            0.0    1274         10121           0.500005   \n",
            "3    0.0     0.0            0.0       1          2923           0.500005   \n",
            "4    0.0     0.0            0.0       6          6049           0.500005   \n",
            "..   ...     ...            ...     ...           ...                ...   \n",
            "59  99.2     0.0            0.0       3             0           4.728520   \n",
            "60   0.0     0.0            0.0       1             0           0.000010   \n",
            "61   0.0     0.0            0.0       1             0           0.000010   \n",
            "62   0.0     0.0            0.0       1             0           0.000010   \n",
            "63   0.0     0.0            0.0       1             0           0.000010   \n",
            "\n",
            "    inTheMoney contractSize currency  \n",
            "0        False      REGULAR      USD  \n",
            "1        False      REGULAR      USD  \n",
            "2        False      REGULAR      USD  \n",
            "3        False      REGULAR      USD  \n",
            "4        False      REGULAR      USD  \n",
            "..         ...          ...      ...  \n",
            "59        True      REGULAR      USD  \n",
            "60        True      REGULAR      USD  \n",
            "61        True      REGULAR      USD  \n",
            "62        True      REGULAR      USD  \n",
            "63        True      REGULAR      USD  \n",
            "\n",
            "[64 rows x 14 columns], underlying={'language': 'en-US', 'region': 'US', 'quoteType': 'EQUITY', 'typeDisp': 'Equity', 'quoteSourceName': 'Nasdaq Real Time Price', 'triggerable': True, 'customPriceAlertConfidence': 'HIGH', 'currency': 'USD', 'marketState': 'PRE', 'regularMarketChangePercent': 3.2570682, 'regularMarketPrice': 188.63, 'exchange': 'NMS', 'shortName': 'Apple Inc.', 'longName': 'Apple Inc.', 'messageBoardId': 'finmb_24937', 'exchangeTimezoneName': 'America/New_York', 'exchangeTimezoneShortName': 'EST', 'gmtOffSetMilliseconds': -18000000, 'market': 'us_market', 'esgPopulated': False, 'firstTradeDateMilliseconds': 345479400000, 'priceHint': 2, 'preMarketChange': 0.2599945, 'preMarketChangePercent': 0.13783306, 'preMarketTime': 1705674447, 'preMarketPrice': 188.89, 'regularMarketChange': 5.950012, 'regularMarketTime': 1705611601, 'regularMarketDayHigh': 189.135, 'regularMarketDayRange': '185.84 - 189.135', 'regularMarketDayLow': 185.84, 'regularMarketVolume': 77082288, 'regularMarketPreviousClose': 182.68, 'bid': 0.0, 'ask': 0.0, 'bidSize': 10, 'askSize': 9, 'fullExchangeName': 'NasdaqGS', 'financialCurrency': 'USD', 'regularMarketOpen': 186.09, 'averageDailyVolume3Month': 54311296, 'averageDailyVolume10Day': 56348060, 'fiftyTwoWeekLowChange': 54.410004, 'fiftyTwoWeekLowChangePercent': 0.40537927, 'fiftyTwoWeekRange': '134.22 - 199.62', 'fiftyTwoWeekHighChange': -10.98999, 'fiftyTwoWeekHighChangePercent': -0.055054557, 'fiftyTwoWeekLow': 134.22, 'fiftyTwoWeekHigh': 199.62, 'fiftyTwoWeekChangePercent': 36.817287, 'dividendDate': 1700092800, 'earningsTimestamp': 1698958800, 'earningsTimestampStart': 1706698740, 'earningsTimestampEnd': 1707134400, 'trailingAnnualDividendRate': 0.94, 'trailingPE': 30.771616, 'dividendRate': 0.96, 'trailingAnnualDividendYield': 0.00514561, 'dividendYield': 0.51, 'epsTrailingTwelveMonths': 6.13, 'epsForward': 7.17, 'epsCurrentYear': 6.59, 'priceEpsCurrentYear': 28.623672, 'sharesOutstanding': 15461900288, 'bookValue': 3.997, 'fiftyDayAverage': 189.5554, 'fiftyDayAverageChange': -0.9253998, 'fiftyDayAverageChangePercent': -0.0048819487, 'twoHundredDayAverage': 181.027, 'twoHundredDayAverageChange': 7.603012, 'twoHundredDayAverageChangePercent': 0.04199933, 'marketCap': 2916578230272, 'forwardPE': 26.30823, 'priceToBook': 47.192898, 'sourceInterval': 15, 'exchangeDataDelayedBy': 0, 'averageAnalystRating': '2.1 - Buy', 'tradeable': False, 'cryptoTradeable': False, 'displayName': 'Apple', 'symbol': 'AAPL'})\n"
          ]
        },
        {
          "output_type": "error",
          "ename": "AttributeError",
          "evalue": "'Options' object has no attribute 'plot_option_chains'",
          "traceback": [
            "\u001b[0;31m---------------------------------------------------------------------------\u001b[0m",
            "\u001b[0;31mAttributeError\u001b[0m                            Traceback (most recent call last)",
            "\u001b[0;32m<ipython-input-2-d53d754a440c>\u001b[0m in \u001b[0;36m<cell line: 19>\u001b[0;34m()\u001b[0m\n\u001b[1;32m     17\u001b[0m \u001b[0;34m\u001b[0m\u001b[0m\n\u001b[1;32m     18\u001b[0m \u001b[0;31m# Plot the option chain data\u001b[0m\u001b[0;34m\u001b[0m\u001b[0;34m\u001b[0m\u001b[0m\n\u001b[0;32m---> 19\u001b[0;31m \u001b[0moption_chain\u001b[0m\u001b[0;34m.\u001b[0m\u001b[0mplot_option_chains\u001b[0m\u001b[0;34m(\u001b[0m\u001b[0;34m)\u001b[0m\u001b[0;34m\u001b[0m\u001b[0;34m\u001b[0m\u001b[0m\n\u001b[0m\u001b[1;32m     20\u001b[0m \u001b[0mplt\u001b[0m\u001b[0;34m.\u001b[0m\u001b[0mshow\u001b[0m\u001b[0;34m(\u001b[0m\u001b[0;34m)\u001b[0m\u001b[0;34m\u001b[0m\u001b[0;34m\u001b[0m\u001b[0m\n",
            "\u001b[0;31mAttributeError\u001b[0m: 'Options' object has no attribute 'plot_option_chains'"
          ]
        }
      ]
    },
    {
      "cell_type": "code",
      "source": [],
      "metadata": {
        "id": "7teTMT-WHxZG"
      },
      "execution_count": null,
      "outputs": []
    },
    {
      "cell_type": "code",
      "source": [
        "# prompt: import and analyse AAPL stock option data\n",
        "\n",
        "import pandas as pd\n",
        "import numpy as np\n",
        "from datetime import datetime\n",
        "\n",
        "# Import AAPL stock option data\n",
        "df = pd.read_csv('AAPL_stock_options.csv')\n",
        "\n",
        "# Convert the expiration date column to a datetime object\n",
        "df['expiration_date'] = pd.to_datetime(df['expiration_date'])\n",
        "\n",
        "# Calculate the strike price\n",
        "df['strike_price'] = df['strike_price'].astype(int)\n",
        "\n",
        "# Calculate the option type (call or put)\n",
        "df['option_type'] = df['option_type'].str.lower()\n",
        "\n",
        "# Calculate the option premium\n",
        "df['option_premium'] = df['option_premium'].astype(float)\n",
        "\n",
        "# Calculate the bid price\n",
        "df['bid_price'] = df['bid_price'].astype(float)\n",
        "\n",
        "# Calculate the ask price\n",
        "df['ask_price'] = df['ask_price'].astype(float)\n",
        "\n",
        "# Calculate the last traded price\n",
        "df['last_traded_price'] = df['last_traded_price'].astype(float)\n",
        "\n",
        "# Calculate the volume\n",
        "df['volume'] = df['volume'].astype(int)\n",
        "\n",
        "# Calculate the open interest\n",
        "df['open_interest'] = df['open_interest'].astype(int)\n",
        "\n",
        "# Calculate the implied volatility\n",
        "df['implied_volatility'] = df['implied_volatility'].astype(float)\n",
        "\n",
        "# Calculate the time to expiration\n",
        "df['time_to_expiration'] = df['expiration_date'] - datetime.now()\n",
        "\n",
        "# Calculate the intrinsic value\n",
        "df['intrinsic_value'] = np.where(df['option_type'] == 'call', df['last_traded_price'] - df['strike_price'], df['strike_price'] - df['last_traded_price'])\n",
        "\n",
        "# Calculate the extrinsic value\n",
        "df['extrinsic_value'] = df['option_premium'] - df['intrinsic_value']\n",
        "\n",
        "# Calculate the delta\n",
        "df['delta'] = np.where(df['option_type'] == 'call', np.where(df['last_traded_price'] > df['strike_price'], 1, 0), np.where(df['last_traded_price'] < df['strike_price'], -1, 0))\n",
        "\n",
        "# Calculate the gamma\n",
        "df['gamma'] = np.where(df['option_type'] == 'call', np.where(df['last_traded_price'] > df['strike_price'], 0.5, -0.5), np.where(df['last_traded_price'] < df['strike_price'], -0.5, 0.5))\n",
        "\n",
        "# Calculate the vega\n",
        "df['vega'] = np.where(df['option_type'] == 'call', 0.01 * df['last_traded_price'] * np.sqrt(df['time_to_expiration'].dt.days / 365), -0.01 * df['last_traded_price'] * np.sqrt(df['time_to_expiration'].dt.days / 365))\n",
        "\n",
        "# Calculate the theta\n",
        "df['theta'] = np.where(df['option_type'] == 'call', -0.01 * df['last_traded_price'] * df['implied_volatility'] * np.sqrt(df['time_to_expiration'].dt.days / 365), 0.01 * df['last_traded_price'] * df['implied_volatility'] * np.sqrt(df['time_to_expiration'].dt.days / 365))\n",
        "\n",
        "# Calculate the rho\n",
        "df['rho'] = np.where(df['option_type'] == 'call', 0.01 * df['strike_price'] * df['time_to_expiration'].dt.days / 365, -0.01 * df['strike_price'] * df['time_to_expiration'].dt.days / 365)\n",
        "\n",
        "# Print the head of the dataframe\n",
        "print(df.head())"
      ],
      "metadata": {
        "id": "JiJBK1Trinx2"
      },
      "execution_count": null,
      "outputs": []
    },
    {
      "cell_type": "markdown",
      "source": [
        "## Exploratory Analysis"
      ],
      "metadata": {
        "id": "06UHFNBbiohg"
      }
    },
    {
      "cell_type": "code",
      "source": [],
      "metadata": {
        "id": "AMP7gdb2irIi"
      },
      "execution_count": null,
      "outputs": []
    },
    {
      "cell_type": "markdown",
      "source": [
        "### Cleanup"
      ],
      "metadata": {
        "id": "pnBduiGvirmO"
      }
    },
    {
      "cell_type": "code",
      "source": [],
      "metadata": {
        "id": "nQk8P2HziuSZ"
      },
      "execution_count": null,
      "outputs": []
    },
    {
      "cell_type": "markdown",
      "source": [
        "## Analysis of existing non-deep learning strategies"
      ],
      "metadata": {
        "id": "c-Vuq2K8iu5L"
      }
    },
    {
      "cell_type": "code",
      "source": [],
      "metadata": {
        "id": "QHnWP8JPi2VF"
      },
      "execution_count": null,
      "outputs": []
    },
    {
      "cell_type": "markdown",
      "source": [
        "### Defining Strategy models"
      ],
      "metadata": {
        "id": "o83rRAKEi3HI"
      }
    },
    {
      "cell_type": "code",
      "source": [
        "import os\n",
        "from pathlib import Path\n",
        "\n",
        "Path(\"strategies\").mkdir(parents=True, exist_ok=True)"
      ],
      "metadata": {
        "id": "7nHU9umDK6C9"
      },
      "execution_count": 18,
      "outputs": []
    },
    {
      "cell_type": "markdown",
      "source": [
        "#### Simple Moving Average"
      ],
      "metadata": {
        "id": "PbzF7zrzJg__"
      }
    },
    {
      "cell_type": "code",
      "source": [
        "!pip install backtesting"
      ],
      "metadata": {
        "id": "JbO1wwlzI-Ga",
        "outputId": "2d3c8ecd-5e97-4cf7-c6a4-aad7661a7017",
        "colab": {
          "base_uri": "https://localhost:8080/"
        }
      },
      "execution_count": 29,
      "outputs": [
        {
          "output_type": "stream",
          "name": "stdout",
          "text": [
            "Collecting backtesting\n",
            "  Downloading Backtesting-0.3.3.tar.gz (175 kB)\n",
            "\u001b[2K     \u001b[90m━━━━━━━━━━━━━━━━━━━━━━━━━━━━━━━━━━━━━━━━\u001b[0m \u001b[32m175.5/175.5 kB\u001b[0m \u001b[31m3.3 MB/s\u001b[0m eta \u001b[36m0:00:00\u001b[0m\n",
            "\u001b[?25h  Preparing metadata (setup.py) ... \u001b[?25l\u001b[?25hdone\n",
            "Requirement already satisfied: numpy>=1.17.0 in /usr/local/lib/python3.10/dist-packages (from backtesting) (1.23.5)\n",
            "Requirement already satisfied: pandas!=0.25.0,>=0.25.0 in /usr/local/lib/python3.10/dist-packages (from backtesting) (1.5.3)\n",
            "Requirement already satisfied: bokeh>=1.4.0 in /usr/local/lib/python3.10/dist-packages (from backtesting) (3.3.3)\n",
            "Requirement already satisfied: Jinja2>=2.9 in /usr/local/lib/python3.10/dist-packages (from bokeh>=1.4.0->backtesting) (3.1.3)\n",
            "Requirement already satisfied: contourpy>=1 in /usr/local/lib/python3.10/dist-packages (from bokeh>=1.4.0->backtesting) (1.2.0)\n",
            "Requirement already satisfied: packaging>=16.8 in /usr/local/lib/python3.10/dist-packages (from bokeh>=1.4.0->backtesting) (23.2)\n",
            "Requirement already satisfied: pillow>=7.1.0 in /usr/local/lib/python3.10/dist-packages (from bokeh>=1.4.0->backtesting) (9.4.0)\n",
            "Requirement already satisfied: PyYAML>=3.10 in /usr/local/lib/python3.10/dist-packages (from bokeh>=1.4.0->backtesting) (6.0.1)\n",
            "Requirement already satisfied: tornado>=5.1 in /usr/local/lib/python3.10/dist-packages (from bokeh>=1.4.0->backtesting) (6.3.2)\n",
            "Requirement already satisfied: xyzservices>=2021.09.1 in /usr/local/lib/python3.10/dist-packages (from bokeh>=1.4.0->backtesting) (2023.10.1)\n",
            "Requirement already satisfied: python-dateutil>=2.8.1 in /usr/local/lib/python3.10/dist-packages (from pandas!=0.25.0,>=0.25.0->backtesting) (2.8.2)\n",
            "Requirement already satisfied: pytz>=2020.1 in /usr/local/lib/python3.10/dist-packages (from pandas!=0.25.0,>=0.25.0->backtesting) (2023.3.post1)\n",
            "Requirement already satisfied: MarkupSafe>=2.0 in /usr/local/lib/python3.10/dist-packages (from Jinja2>=2.9->bokeh>=1.4.0->backtesting) (2.1.3)\n",
            "Requirement already satisfied: six>=1.5 in /usr/local/lib/python3.10/dist-packages (from python-dateutil>=2.8.1->pandas!=0.25.0,>=0.25.0->backtesting) (1.16.0)\n",
            "Building wheels for collected packages: backtesting\n",
            "  Building wheel for backtesting (setup.py) ... \u001b[?25l\u001b[?25hdone\n",
            "  Created wheel for backtesting: filename=Backtesting-0.3.3-py3-none-any.whl size=173916 sha256=5674f8f7611581a26425320a19c7a7682332c22a9a96add3312eceea0f9d8f3b\n",
            "  Stored in directory: /root/.cache/pip/wheels/e2/30/7f/19cbe31987c6ebdb47f1f510343249066711609e3da2d57176\n",
            "Successfully built backtesting\n",
            "Installing collected packages: backtesting\n",
            "Successfully installed backtesting-0.3.3\n"
          ]
        }
      ]
    },
    {
      "cell_type": "code",
      "source": [
        "from backtesting import Backtest, Strategy\n",
        "from backtesting.lib import crossover\n",
        "\n",
        "from backtesting.test import GOOG\n",
        "\n"
      ],
      "metadata": {
        "id": "yqCwJUkQJqaD"
      },
      "execution_count": 33,
      "outputs": []
    },
    {
      "cell_type": "code",
      "source": [
        "%%writefile strategies/sma.py\n",
        "from backtesting import Backtest, Strategy\n",
        "from backtesting.lib import crossover\n",
        "\n",
        "from backtesting.test import SMA\n",
        "\n",
        "class SmaCross(Strategy):\n",
        "    n1 = 10\n",
        "    n2 = 20\n",
        "\n",
        "    def init(self):\n",
        "        close = self.data.Close\n",
        "        self.sma1 = self.I(SMA, close, self.n1)\n",
        "        self.sma2 = self.I(SMA, close, self.n2)\n",
        "\n",
        "    def next(self):\n",
        "        if crossover(self.sma1, self.sma2):\n",
        "            self.buy()\n",
        "        elif crossover(self.sma2, self.sma1):\n",
        "            self.sell()"
      ],
      "metadata": {
        "id": "QzGBUvmMi7Dm",
        "outputId": "bad2a22f-87ea-444a-a5b7-0160a0d413ff",
        "colab": {
          "base_uri": "https://localhost:8080/"
        }
      },
      "execution_count": 38,
      "outputs": [
        {
          "output_type": "stream",
          "name": "stdout",
          "text": [
            "Overwriting strategies/sma.py\n"
          ]
        }
      ]
    },
    {
      "cell_type": "markdown",
      "source": [
        "### Defining scoring and backtesting methodology"
      ],
      "metadata": {
        "id": "tCn6PviMi7yg"
      }
    },
    {
      "cell_type": "code",
      "source": [
        "from strategies.sma import SmaCross\n",
        "\n",
        "bt = Backtest(GOOG, SmaCross,\n",
        "              cash=10000, commission=.002,\n",
        "              exclusive_orders=True)\n",
        "\n",
        "output = bt.run()\n",
        "bt.plot()\n"
      ],
      "metadata": {
        "id": "5kJOhpCTjAeP",
        "outputId": "1c8b6a19-f7f6-4d5f-b281-1111c731b111",
        "colab": {
          "base_uri": "https://localhost:8080/",
          "height": 384
        }
      },
      "execution_count": 40,
      "outputs": [
        {
          "output_type": "error",
          "ename": "ImportError",
          "evalue": "cannot import name 'SmaCross' from 'strategies.sma' (/content/strategies/sma.py)",
          "traceback": [
            "\u001b[0;31m---------------------------------------------------------------------------\u001b[0m",
            "\u001b[0;31mImportError\u001b[0m                               Traceback (most recent call last)",
            "\u001b[0;32m<ipython-input-40-6048fa394cd8>\u001b[0m in \u001b[0;36m<cell line: 1>\u001b[0;34m()\u001b[0m\n\u001b[0;32m----> 1\u001b[0;31m \u001b[0;32mfrom\u001b[0m \u001b[0mstrategies\u001b[0m\u001b[0;34m.\u001b[0m\u001b[0msma\u001b[0m \u001b[0;32mimport\u001b[0m \u001b[0mSmaCross\u001b[0m\u001b[0;34m\u001b[0m\u001b[0;34m\u001b[0m\u001b[0m\n\u001b[0m\u001b[1;32m      2\u001b[0m \u001b[0;34m\u001b[0m\u001b[0m\n\u001b[1;32m      3\u001b[0m bt = Backtest(GOOG, SmaCross,\n\u001b[1;32m      4\u001b[0m               \u001b[0mcash\u001b[0m\u001b[0;34m=\u001b[0m\u001b[0;36m10000\u001b[0m\u001b[0;34m,\u001b[0m \u001b[0mcommission\u001b[0m\u001b[0;34m=\u001b[0m\u001b[0;36m.002\u001b[0m\u001b[0;34m,\u001b[0m\u001b[0;34m\u001b[0m\u001b[0;34m\u001b[0m\u001b[0m\n\u001b[1;32m      5\u001b[0m               exclusive_orders=True)\n",
            "\u001b[0;31mImportError\u001b[0m: cannot import name 'SmaCross' from 'strategies.sma' (/content/strategies/sma.py)",
            "",
            "\u001b[0;31m---------------------------------------------------------------------------\u001b[0;32m\nNOTE: If your import is failing due to a missing package, you can\nmanually install dependencies using either !pip or !apt.\n\nTo view examples of installing some common dependencies, click the\n\"Open Examples\" button below.\n\u001b[0;31m---------------------------------------------------------------------------\u001b[0m\n"
          ],
          "errorDetails": {
            "actions": [
              {
                "action": "open_url",
                "actionText": "Open Examples",
                "url": "/notebooks/snippets/importing_libraries.ipynb"
              }
            ]
          }
        }
      ]
    },
    {
      "cell_type": "markdown",
      "source": [
        "### Comparing existing strategies"
      ],
      "metadata": {
        "id": "Kgswf6rwjA7s"
      }
    },
    {
      "cell_type": "code",
      "source": [],
      "metadata": {
        "id": "hgGi5g3EjD_K"
      },
      "execution_count": null,
      "outputs": []
    },
    {
      "cell_type": "markdown",
      "source": [
        "## Analysisng existing Deep learning Strategies"
      ],
      "metadata": {
        "id": "3dNYJepRjHo_"
      }
    },
    {
      "cell_type": "code",
      "source": [],
      "metadata": {
        "id": "B6zUFSA5jLpd"
      },
      "execution_count": null,
      "outputs": []
    },
    {
      "cell_type": "markdown",
      "source": [
        "### Defining strategy models"
      ],
      "metadata": {
        "id": "Ivn0IYvpjNoc"
      }
    },
    {
      "cell_type": "code",
      "source": [],
      "metadata": {
        "id": "AxptwcAVjQk5"
      },
      "execution_count": null,
      "outputs": []
    },
    {
      "cell_type": "markdown",
      "source": [
        "### Comparing with existing models"
      ],
      "metadata": {
        "id": "2rSUyqbljRBK"
      }
    },
    {
      "cell_type": "code",
      "source": [],
      "metadata": {
        "id": "0msySBh8jVHr"
      },
      "execution_count": null,
      "outputs": []
    },
    {
      "cell_type": "markdown",
      "source": [
        "### Analysis of strategies and their pros and cons"
      ],
      "metadata": {
        "id": "Vs1INSWgkOt4"
      }
    },
    {
      "cell_type": "markdown",
      "source": [
        "## Proposing our strategy"
      ],
      "metadata": {
        "id": "MsTjQSrDjWC4"
      }
    },
    {
      "cell_type": "markdown",
      "source": [
        "> Explain the strategy in words"
      ],
      "metadata": {
        "id": "Ms3Y0hHMkuB_"
      }
    },
    {
      "cell_type": "code",
      "source": [],
      "metadata": {
        "id": "DlZqTXrckdFv"
      },
      "execution_count": null,
      "outputs": []
    },
    {
      "cell_type": "markdown",
      "source": [
        "### Defining the strategy"
      ],
      "metadata": {
        "id": "bMh0DKOJkv7E"
      }
    },
    {
      "cell_type": "code",
      "source": [],
      "metadata": {
        "id": "1CEgasplk-cC"
      },
      "execution_count": null,
      "outputs": []
    },
    {
      "cell_type": "markdown",
      "source": [
        "### Comparing strategies with various methods"
      ],
      "metadata": {
        "id": "99eaapPyk_k-"
      }
    },
    {
      "cell_type": "code",
      "source": [],
      "metadata": {
        "id": "NR9IZfNMlC0C"
      },
      "execution_count": null,
      "outputs": []
    },
    {
      "cell_type": "markdown",
      "source": [
        "## Conclusion"
      ],
      "metadata": {
        "id": "2oPSCnTTlVIq"
      }
    },
    {
      "cell_type": "code",
      "source": [],
      "metadata": {
        "id": "YG9qhiiClWiO"
      },
      "execution_count": null,
      "outputs": []
    }
  ]
}