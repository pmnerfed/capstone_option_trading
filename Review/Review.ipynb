{
  "nbformat": 4,
  "nbformat_minor": 0,
  "metadata": {
    "colab": {
      "provenance": [],
      "authorship_tag": "ABX9TyPxcLNbUOOL7RgBrdO0crgo",
      "include_colab_link": true
    },
    "kernelspec": {
      "name": "python3",
      "display_name": "Python 3"
    },
    "language_info": {
      "name": "python"
    }
  },
  "cells": [
    {
      "cell_type": "markdown",
      "metadata": {
        "id": "view-in-github",
        "colab_type": "text"
      },
      "source": [
        "<a href=\"https://colab.research.google.com/github/pmnerfed/capstone_option_trading/blob/main/Review/Review.ipynb\" target=\"_parent\"><img src=\"https://colab.research.google.com/assets/colab-badge.svg\" alt=\"Open In Colab\"/></a>"
      ]
    },
    {
      "cell_type": "markdown",
      "source": [
        "# Long/Short Term Trading Strategies"
      ],
      "metadata": {
        "id": "nW44OQJViXWN"
      }
    },
    {
      "cell_type": "code",
      "execution_count": null,
      "metadata": {
        "id": "B_YXx4ExtyuW"
      },
      "outputs": [],
      "source": []
    },
    {
      "cell_type": "markdown",
      "source": [
        "## Gathering the data"
      ],
      "metadata": {
        "id": "6W36CYABikMS"
      }
    },
    {
      "cell_type": "code",
      "source": [],
      "metadata": {
        "id": "i-vQgQeKinN0"
      },
      "execution_count": null,
      "outputs": []
    },
    {
      "cell_type": "code",
      "source": [],
      "metadata": {
        "id": "JiJBK1Trinx2"
      },
      "execution_count": null,
      "outputs": []
    },
    {
      "cell_type": "markdown",
      "source": [
        "## Exploratory Analysis"
      ],
      "metadata": {
        "id": "06UHFNBbiohg"
      }
    },
    {
      "cell_type": "code",
      "source": [],
      "metadata": {
        "id": "AMP7gdb2irIi"
      },
      "execution_count": null,
      "outputs": []
    },
    {
      "cell_type": "markdown",
      "source": [
        "### Cleanup"
      ],
      "metadata": {
        "id": "pnBduiGvirmO"
      }
    },
    {
      "cell_type": "code",
      "source": [],
      "metadata": {
        "id": "nQk8P2HziuSZ"
      },
      "execution_count": null,
      "outputs": []
    },
    {
      "cell_type": "markdown",
      "source": [
        "## Analysis of existing non-deep learning strategies"
      ],
      "metadata": {
        "id": "c-Vuq2K8iu5L"
      }
    },
    {
      "cell_type": "code",
      "source": [],
      "metadata": {
        "id": "QHnWP8JPi2VF"
      },
      "execution_count": null,
      "outputs": []
    },
    {
      "cell_type": "markdown",
      "source": [
        "### Defining Strategy models"
      ],
      "metadata": {
        "id": "o83rRAKEi3HI"
      }
    },
    {
      "cell_type": "code",
      "source": [],
      "metadata": {
        "id": "QzGBUvmMi7Dm"
      },
      "execution_count": null,
      "outputs": []
    },
    {
      "cell_type": "markdown",
      "source": [
        "### Defining scoring methodology"
      ],
      "metadata": {
        "id": "tCn6PviMi7yg"
      }
    },
    {
      "cell_type": "code",
      "source": [],
      "metadata": {
        "id": "5kJOhpCTjAeP"
      },
      "execution_count": null,
      "outputs": []
    },
    {
      "cell_type": "markdown",
      "source": [
        "### Comparing existing strategies"
      ],
      "metadata": {
        "id": "Kgswf6rwjA7s"
      }
    },
    {
      "cell_type": "code",
      "source": [],
      "metadata": {
        "id": "hgGi5g3EjD_K"
      },
      "execution_count": null,
      "outputs": []
    },
    {
      "cell_type": "markdown",
      "source": [
        "## Analysisng existing Deep learning Strategies"
      ],
      "metadata": {
        "id": "3dNYJepRjHo_"
      }
    },
    {
      "cell_type": "code",
      "source": [],
      "metadata": {
        "id": "B6zUFSA5jLpd"
      },
      "execution_count": null,
      "outputs": []
    },
    {
      "cell_type": "markdown",
      "source": [
        "### Defining strategy models"
      ],
      "metadata": {
        "id": "Ivn0IYvpjNoc"
      }
    },
    {
      "cell_type": "code",
      "source": [],
      "metadata": {
        "id": "AxptwcAVjQk5"
      },
      "execution_count": null,
      "outputs": []
    },
    {
      "cell_type": "markdown",
      "source": [
        "### Comparing with existing models"
      ],
      "metadata": {
        "id": "2rSUyqbljRBK"
      }
    },
    {
      "cell_type": "code",
      "source": [],
      "metadata": {
        "id": "0msySBh8jVHr"
      },
      "execution_count": null,
      "outputs": []
    },
    {
      "cell_type": "markdown",
      "source": [
        "### Analysis of strategies and their pros and cons"
      ],
      "metadata": {
        "id": "Vs1INSWgkOt4"
      }
    },
    {
      "cell_type": "markdown",
      "source": [
        "## Proposing our strategy"
      ],
      "metadata": {
        "id": "MsTjQSrDjWC4"
      }
    },
    {
      "cell_type": "markdown",
      "source": [
        "> Explain the strategy in words"
      ],
      "metadata": {
        "id": "Ms3Y0hHMkuB_"
      }
    },
    {
      "cell_type": "code",
      "source": [],
      "metadata": {
        "id": "DlZqTXrckdFv"
      },
      "execution_count": null,
      "outputs": []
    },
    {
      "cell_type": "markdown",
      "source": [
        "### Defining the strategy"
      ],
      "metadata": {
        "id": "bMh0DKOJkv7E"
      }
    },
    {
      "cell_type": "code",
      "source": [],
      "metadata": {
        "id": "1CEgasplk-cC"
      },
      "execution_count": null,
      "outputs": []
    },
    {
      "cell_type": "markdown",
      "source": [
        "### Comparing strategies with various methods"
      ],
      "metadata": {
        "id": "99eaapPyk_k-"
      }
    },
    {
      "cell_type": "code",
      "source": [],
      "metadata": {
        "id": "NR9IZfNMlC0C"
      },
      "execution_count": null,
      "outputs": []
    },
    {
      "cell_type": "markdown",
      "source": [
        "## Conclusion"
      ],
      "metadata": {
        "id": "2oPSCnTTlVIq"
      }
    },
    {
      "cell_type": "code",
      "source": [],
      "metadata": {
        "id": "YG9qhiiClWiO"
      },
      "execution_count": null,
      "outputs": []
    }
  ]
}